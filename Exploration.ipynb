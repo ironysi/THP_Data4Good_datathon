{
 "cells": [
  {
   "cell_type": "markdown",
   "metadata": {},
   "source": [
    "# LO Clickthrough data cleaning"
   ]
  },
  {
   "cell_type": "markdown",
   "metadata": {},
   "source": [
    "This dataset cleans up Datathon LO Clickthrough.csv dataset and is meant to later be joint with LO Campaign Reponse dataset"
   ]
  },
  {
   "cell_type": "code",
   "execution_count": 829,
   "metadata": {
    "collapsed": true
   },
   "outputs": [],
   "source": [
    "import pandas as pd\n",
    "import numpy as np"
   ]
  },
  {
   "cell_type": "code",
   "execution_count": 830,
   "metadata": {
    "collapsed": true,
    "scrolled": true
   },
   "outputs": [],
   "source": [
    "df_click = pd.read_csv(\"RawData/Datathon LO Clickthrough.csv\")\n",
    "#df_camp = pd.read_csv(\"RawData/Datathon LO Campaign Response.csv\")"
   ]
  },
  {
   "cell_type": "code",
   "execution_count": 831,
   "metadata": {
    "collapsed": true
   },
   "outputs": [],
   "source": [
    "start_mem = df_click.memory_usage(index=True, deep=True).sum()"
   ]
  },
  {
   "cell_type": "code",
   "execution_count": 832,
   "metadata": {},
   "outputs": [
    {
     "data": {
      "text/plain": [
       "Index(['LuminateID', 'ImportIDPartial', 'home_zip', 'Email', 'Campaign_Name',\n",
       "       'Message_Name', 'Clickthrough__Date', 'URL', 'home_country',\n",
       "       'home_phone', 'primary_email', 'secondary_email',\n",
       "       'preferred_email_format'],\n",
       "      dtype='object')"
      ]
     },
     "execution_count": 832,
     "metadata": {},
     "output_type": "execute_result"
    }
   ],
   "source": [
    "df_click.columns"
   ]
  },
  {
   "cell_type": "code",
   "execution_count": 833,
   "metadata": {},
   "outputs": [
    {
     "data": {
      "text/plain": [
       "(11848, 13)"
      ]
     },
     "execution_count": 833,
     "metadata": {},
     "output_type": "execute_result"
    }
   ],
   "source": [
    "df_click.shape"
   ]
  },
  {
   "cell_type": "code",
   "execution_count": 834,
   "metadata": {},
   "outputs": [
    {
     "data": {
      "text/html": [
       "<div>\n",
       "<style scoped>\n",
       "    .dataframe tbody tr th:only-of-type {\n",
       "        vertical-align: middle;\n",
       "    }\n",
       "\n",
       "    .dataframe tbody tr th {\n",
       "        vertical-align: top;\n",
       "    }\n",
       "\n",
       "    .dataframe thead th {\n",
       "        text-align: right;\n",
       "    }\n",
       "</style>\n",
       "<table border=\"1\" class=\"dataframe\">\n",
       "  <thead>\n",
       "    <tr style=\"text-align: right;\">\n",
       "      <th></th>\n",
       "      <th>LuminateID</th>\n",
       "      <th>ImportIDPartial</th>\n",
       "      <th>home_zip</th>\n",
       "      <th>Email</th>\n",
       "      <th>Campaign_Name</th>\n",
       "      <th>Message_Name</th>\n",
       "      <th>Clickthrough__Date</th>\n",
       "      <th>URL</th>\n",
       "      <th>home_country</th>\n",
       "      <th>home_phone</th>\n",
       "      <th>primary_email</th>\n",
       "      <th>secondary_email</th>\n",
       "      <th>preferred_email_format</th>\n",
       "    </tr>\n",
       "  </thead>\n",
       "  <tbody>\n",
       "    <tr>\n",
       "      <th>0</th>\n",
       "      <td>1283212</td>\n",
       "      <td>NaN</td>\n",
       "      <td>NaN</td>\n",
       "      <td>Given</td>\n",
       "      <td>New Subscriber Welcome Series - General</td>\n",
       "      <td>Email 1 - Survey</td>\n",
       "      <td>05/15/2018 10:56</td>\n",
       "      <td>http://www.convio.com/</td>\n",
       "      <td>NaN</td>\n",
       "      <td>NaN</td>\n",
       "      <td>Given</td>\n",
       "      <td>NaN</td>\n",
       "      <td>1.0</td>\n",
       "    </tr>\n",
       "    <tr>\n",
       "      <th>1</th>\n",
       "      <td>1283212</td>\n",
       "      <td>NaN</td>\n",
       "      <td>NaN</td>\n",
       "      <td>Given</td>\n",
       "      <td>New Subscriber Welcome Series - General</td>\n",
       "      <td>Email 2 - Survey Reminder</td>\n",
       "      <td>05/22/2018 12:05</td>\n",
       "      <td>http://thcf.convio.net/site/PageServer?pagenam...</td>\n",
       "      <td>NaN</td>\n",
       "      <td>NaN</td>\n",
       "      <td>Given</td>\n",
       "      <td>NaN</td>\n",
       "      <td>1.0</td>\n",
       "    </tr>\n",
       "    <tr>\n",
       "      <th>2</th>\n",
       "      <td>1287011</td>\n",
       "      <td>NaN</td>\n",
       "      <td>NaN</td>\n",
       "      <td>Given</td>\n",
       "      <td>New Subscriber Welcome Series - General</td>\n",
       "      <td>Email 1 - Survey</td>\n",
       "      <td>09/29/2018 8:32</td>\n",
       "      <td>http://thcf.convio.net/site/PageServer?pagenam...</td>\n",
       "      <td>NaN</td>\n",
       "      <td>NaN</td>\n",
       "      <td>Given</td>\n",
       "      <td>NaN</td>\n",
       "      <td>1.0</td>\n",
       "    </tr>\n",
       "    <tr>\n",
       "      <th>3</th>\n",
       "      <td>1286854</td>\n",
       "      <td>NaN</td>\n",
       "      <td>NaN</td>\n",
       "      <td>Given</td>\n",
       "      <td>New Subscriber Welcome Series - General</td>\n",
       "      <td>Email 1 - Survey</td>\n",
       "      <td>09/28/2018 23:16</td>\n",
       "      <td>http://thcf.convio.net/site/PageServer?pagenam...</td>\n",
       "      <td>NaN</td>\n",
       "      <td>NaN</td>\n",
       "      <td>Given</td>\n",
       "      <td>NaN</td>\n",
       "      <td>1.0</td>\n",
       "    </tr>\n",
       "    <tr>\n",
       "      <th>4</th>\n",
       "      <td>1267491</td>\n",
       "      <td>433929.0</td>\n",
       "      <td>L5M 6P6</td>\n",
       "      <td>Given</td>\n",
       "      <td>2018 Spring Match</td>\n",
       "      <td>General 1  (General 1 - TEST)</td>\n",
       "      <td>06/19/2018 14:13</td>\n",
       "      <td>http://thcf.convio.net/site/Donation2?df_id=27...</td>\n",
       "      <td>Canada</td>\n",
       "      <td>Given</td>\n",
       "      <td>Given</td>\n",
       "      <td>NaN</td>\n",
       "      <td>NaN</td>\n",
       "    </tr>\n",
       "  </tbody>\n",
       "</table>\n",
       "</div>"
      ],
      "text/plain": [
       "   LuminateID  ImportIDPartial home_zip  Email  \\\n",
       "0     1283212              NaN      NaN  Given   \n",
       "1     1283212              NaN      NaN  Given   \n",
       "2     1287011              NaN      NaN  Given   \n",
       "3     1286854              NaN      NaN  Given   \n",
       "4     1267491         433929.0  L5M 6P6  Given   \n",
       "\n",
       "                             Campaign_Name                   Message_Name  \\\n",
       "0  New Subscriber Welcome Series - General               Email 1 - Survey   \n",
       "1  New Subscriber Welcome Series - General      Email 2 - Survey Reminder   \n",
       "2  New Subscriber Welcome Series - General               Email 1 - Survey   \n",
       "3  New Subscriber Welcome Series - General               Email 1 - Survey   \n",
       "4                        2018 Spring Match  General 1  (General 1 - TEST)   \n",
       "\n",
       "  Clickthrough__Date                                                URL  \\\n",
       "0   05/15/2018 10:56                             http://www.convio.com/   \n",
       "1   05/22/2018 12:05  http://thcf.convio.net/site/PageServer?pagenam...   \n",
       "2    09/29/2018 8:32  http://thcf.convio.net/site/PageServer?pagenam...   \n",
       "3   09/28/2018 23:16  http://thcf.convio.net/site/PageServer?pagenam...   \n",
       "4   06/19/2018 14:13  http://thcf.convio.net/site/Donation2?df_id=27...   \n",
       "\n",
       "  home_country home_phone primary_email secondary_email  \\\n",
       "0          NaN        NaN         Given             NaN   \n",
       "1          NaN        NaN         Given             NaN   \n",
       "2          NaN        NaN         Given             NaN   \n",
       "3          NaN        NaN         Given             NaN   \n",
       "4       Canada      Given         Given             NaN   \n",
       "\n",
       "   preferred_email_format  \n",
       "0                     1.0  \n",
       "1                     1.0  \n",
       "2                     1.0  \n",
       "3                     1.0  \n",
       "4                     NaN  "
      ]
     },
     "execution_count": 834,
     "metadata": {},
     "output_type": "execute_result"
    }
   ],
   "source": [
    "df_click.head()"
   ]
  },
  {
   "cell_type": "code",
   "execution_count": 835,
   "metadata": {},
   "outputs": [
    {
     "data": {
      "text/plain": [
       "(11848, 13)"
      ]
     },
     "execution_count": 835,
     "metadata": {},
     "output_type": "execute_result"
    }
   ],
   "source": [
    "df_click.shape"
   ]
  },
  {
   "cell_type": "code",
   "execution_count": 836,
   "metadata": {},
   "outputs": [
    {
     "data": {
      "text/plain": [
       "LuminateID                    0\n",
       "ImportIDPartial               7\n",
       "home_zip                    671\n",
       "Email                        46\n",
       "Campaign_Name                 0\n",
       "Message_Name                  0\n",
       "Clickthrough__Date            0\n",
       "URL                           0\n",
       "home_country                  6\n",
       "home_phone                 4086\n",
       "primary_email                46\n",
       "secondary_email           11842\n",
       "preferred_email_format     8268\n",
       "dtype: int64"
      ]
     },
     "execution_count": 836,
     "metadata": {},
     "output_type": "execute_result"
    }
   ],
   "source": [
    "df_click.isna().sum()"
   ]
  },
  {
   "cell_type": "code",
   "execution_count": 837,
   "metadata": {},
   "outputs": [
    {
     "data": {
      "text/plain": [
       "(173, 13)"
      ]
     },
     "execution_count": 837,
     "metadata": {},
     "output_type": "execute_result"
    }
   ],
   "source": [
    "df_click[df_click.duplicated()].shape"
   ]
  },
  {
   "cell_type": "markdown",
   "metadata": {},
   "source": [
    "# Secondary Email"
   ]
  },
  {
   "cell_type": "markdown",
   "metadata": {},
   "source": [
    "## DROP"
   ]
  },
  {
   "cell_type": "code",
   "execution_count": 838,
   "metadata": {},
   "outputs": [
    {
     "data": {
      "text/plain": [
       "6"
      ]
     },
     "execution_count": 838,
     "metadata": {},
     "output_type": "execute_result"
    }
   ],
   "source": [
    "df_click.shape[0] - df_click[df_click[\"secondary_email\"].isna()].shape[0]"
   ]
  },
  {
   "cell_type": "code",
   "execution_count": 839,
   "metadata": {},
   "outputs": [
    {
     "data": {
      "text/plain": [
       "array([nan, 'Given'], dtype=object)"
      ]
     },
     "execution_count": 839,
     "metadata": {},
     "output_type": "execute_result"
    }
   ],
   "source": [
    "df_click[\"secondary_email\"].unique()"
   ]
  },
  {
   "cell_type": "markdown",
   "metadata": {},
   "source": [
    "### There is only 6 ppl that filled in secondary email, I will delete this column"
   ]
  },
  {
   "cell_type": "code",
   "execution_count": 840,
   "metadata": {},
   "outputs": [
    {
     "data": {
      "text/plain": [
       "Index(['LuminateID', 'ImportIDPartial', 'home_zip', 'Email', 'Campaign_Name',\n",
       "       'Message_Name', 'Clickthrough__Date', 'URL', 'home_country',\n",
       "       'home_phone', 'primary_email', 'preferred_email_format'],\n",
       "      dtype='object')"
      ]
     },
     "execution_count": 840,
     "metadata": {},
     "output_type": "execute_result"
    }
   ],
   "source": [
    "try:\n",
    "    df_click = df_click.drop(\"secondary_email\", axis=1)\n",
    "except ValueError:\n",
    "    print(\"Looks like it has already been dropped...\")\n",
    "\n",
    "\n",
    "df_click.columns"
   ]
  },
  {
   "cell_type": "markdown",
   "metadata": {},
   "source": [
    "# LuminateID"
   ]
  },
  {
   "cell_type": "code",
   "execution_count": null,
   "metadata": {},
   "outputs": [],
   "source": []
  },
  {
   "cell_type": "code",
   "execution_count": 841,
   "metadata": {
    "collapsed": true
   },
   "outputs": [],
   "source": [
    "df_click[\"LuminateID\"] = df_click[\"LuminateID\"].dropna()"
   ]
  },
  {
   "cell_type": "code",
   "execution_count": 842,
   "metadata": {},
   "outputs": [
    {
     "data": {
      "text/plain": [
       "False"
      ]
     },
     "execution_count": 842,
     "metadata": {},
     "output_type": "execute_result"
    }
   ],
   "source": [
    "df_click[\"LuminateID\"].isna().any()\n",
    "# No missing values"
   ]
  },
  {
   "cell_type": "code",
   "execution_count": 843,
   "metadata": {},
   "outputs": [
    {
     "name": "stdout",
     "output_type": "stream",
     "text": [
      "1001541\n"
     ]
    },
    {
     "data": {
      "text/plain": [
       "1287157"
      ]
     },
     "execution_count": 843,
     "metadata": {},
     "output_type": "execute_result"
    }
   ],
   "source": [
    "print(df_click[\"LuminateID\"].min())\n",
    "df_click[\"LuminateID\"].max()"
   ]
  },
  {
   "cell_type": "code",
   "execution_count": 844,
   "metadata": {},
   "outputs": [
    {
     "data": {
      "text/plain": [
       "94864"
      ]
     },
     "execution_count": 844,
     "metadata": {},
     "output_type": "execute_result"
    }
   ],
   "source": [
    "\n",
    "df_click[\"LuminateID\"].memory_usage()"
   ]
  },
  {
   "cell_type": "code",
   "execution_count": 845,
   "metadata": {
    "collapsed": true
   },
   "outputs": [],
   "source": [
    "df_click[\"LuminateID\"] = df_click[[\"LuminateID\"]].astype(np.uint32)\n",
    "# int16 was too small "
   ]
  },
  {
   "cell_type": "code",
   "execution_count": 846,
   "metadata": {},
   "outputs": [
    {
     "data": {
      "text/plain": [
       "47472"
      ]
     },
     "execution_count": 846,
     "metadata": {},
     "output_type": "execute_result"
    }
   ],
   "source": [
    "df_click[\"LuminateID\"].memory_usage()"
   ]
  },
  {
   "cell_type": "code",
   "execution_count": 847,
   "metadata": {},
   "outputs": [
    {
     "name": "stdout",
     "output_type": "stream",
     "text": [
      "1001541\n"
     ]
    },
    {
     "data": {
      "text/plain": [
       "1287157"
      ]
     },
     "execution_count": 847,
     "metadata": {},
     "output_type": "execute_result"
    }
   ],
   "source": [
    "print(df_click[\"LuminateID\"].min())\n",
    "df_click[\"LuminateID\"].max()"
   ]
  },
  {
   "cell_type": "markdown",
   "metadata": {},
   "source": [
    "# ImportIDPartial"
   ]
  },
  {
   "cell_type": "markdown",
   "metadata": {},
   "source": [
    "### DROP"
   ]
  },
  {
   "cell_type": "code",
   "execution_count": 848,
   "metadata": {},
   "outputs": [
    {
     "data": {
      "text/plain": [
       "Index(['LuminateID', 'home_zip', 'Email', 'Campaign_Name', 'Message_Name',\n",
       "       'Clickthrough__Date', 'URL', 'home_country', 'home_phone',\n",
       "       'primary_email', 'preferred_email_format'],\n",
       "      dtype='object')"
      ]
     },
     "execution_count": 848,
     "metadata": {},
     "output_type": "execute_result"
    }
   ],
   "source": [
    "try:\n",
    "    df_click = df_click = df_click.drop(\"ImportIDPartial\", axis=1)\n",
    "except ValueError:\n",
    "    print(\"Looks like it has already been dropped...\")\n",
    "    \n",
    "df_click.columns"
   ]
  },
  {
   "cell_type": "code",
   "execution_count": 849,
   "metadata": {},
   "outputs": [
    {
     "data": {
      "text/plain": [
       "Index(['LuminateID', 'home_zip', 'Email', 'Campaign_Name', 'Message_Name',\n",
       "       'Clickthrough__Date', 'URL', 'home_country', 'home_phone',\n",
       "       'primary_email', 'preferred_email_format'],\n",
       "      dtype='object')"
      ]
     },
     "execution_count": 849,
     "metadata": {},
     "output_type": "execute_result"
    }
   ],
   "source": [
    "df_click.columns"
   ]
  },
  {
   "cell_type": "markdown",
   "metadata": {},
   "source": [
    "# Home Phone"
   ]
  },
  {
   "cell_type": "code",
   "execution_count": 850,
   "metadata": {},
   "outputs": [
    {
     "data": {
      "text/plain": [
       "array([nan, 'Given'], dtype=object)"
      ]
     },
     "execution_count": 850,
     "metadata": {},
     "output_type": "execute_result"
    }
   ],
   "source": [
    "df_click[\"home_phone\"].unique()"
   ]
  },
  {
   "cell_type": "code",
   "execution_count": 851,
   "metadata": {
    "collapsed": true
   },
   "outputs": [],
   "source": [
    "df_click[\"home_phone\"] =  df_click[\"home_phone\"].fillna(value=\"Not-Given\")"
   ]
  },
  {
   "cell_type": "code",
   "execution_count": 852,
   "metadata": {},
   "outputs": [
    {
     "data": {
      "text/plain": [
       "array(['Not-Given', 'Given'], dtype=object)"
      ]
     },
     "execution_count": 852,
     "metadata": {},
     "output_type": "execute_result"
    }
   ],
   "source": [
    "df_click[\"home_phone\"].unique()"
   ]
  },
  {
   "cell_type": "code",
   "execution_count": 853,
   "metadata": {},
   "outputs": [
    {
     "data": {
      "text/plain": [
       "Index(['LuminateID', 'home_zip', 'Email', 'Campaign_Name', 'Message_Name',\n",
       "       'Clickthrough__Date', 'URL', 'home_country', 'home_phone',\n",
       "       'primary_email', 'preferred_email_format'],\n",
       "      dtype='object')"
      ]
     },
     "execution_count": 853,
     "metadata": {},
     "output_type": "execute_result"
    }
   ],
   "source": [
    "df_click.columns"
   ]
  },
  {
   "cell_type": "markdown",
   "metadata": {},
   "source": [
    "# Home ZIP"
   ]
  },
  {
   "cell_type": "code",
   "execution_count": null,
   "metadata": {
    "collapsed": true
   },
   "outputs": [],
   "source": []
  },
  {
   "cell_type": "code",
   "execution_count": 854,
   "metadata": {},
   "outputs": [
    {
     "data": {
      "text/plain": [
       "Canada    666\n",
       "Name: home_country, dtype: int64"
      ]
     },
     "execution_count": 854,
     "metadata": {},
     "output_type": "execute_result"
    }
   ],
   "source": [
    "df_click[df_click[\"home_zip\"].isna()][\"home_country\"].value_counts()"
   ]
  },
  {
   "cell_type": "markdown",
   "metadata": {},
   "source": [
    "### All missing ZIP codes are Canadian"
   ]
  },
  {
   "cell_type": "code",
   "execution_count": null,
   "metadata": {
    "collapsed": true
   },
   "outputs": [],
   "source": []
  },
  {
   "cell_type": "code",
   "execution_count": 855,
   "metadata": {},
   "outputs": [
    {
     "data": {
      "text/plain": [
       "Index(['LuminateID', 'home_zip', 'Email', 'Campaign_Name', 'Message_Name',\n",
       "       'Clickthrough__Date', 'URL', 'home_country', 'home_phone',\n",
       "       'primary_email', 'preferred_email_format'],\n",
       "      dtype='object')"
      ]
     },
     "execution_count": 855,
     "metadata": {},
     "output_type": "execute_result"
    }
   ],
   "source": [
    "df_click.columns"
   ]
  },
  {
   "cell_type": "markdown",
   "metadata": {},
   "source": [
    "# Email"
   ]
  },
  {
   "cell_type": "code",
   "execution_count": 856,
   "metadata": {
    "collapsed": true
   },
   "outputs": [],
   "source": [
    "df_click[\"Email\"] =  df_click[\"Email\"].fillna(value=\"Not-Given\")"
   ]
  },
  {
   "cell_type": "code",
   "execution_count": 857,
   "metadata": {},
   "outputs": [
    {
     "data": {
      "text/plain": [
       "Email    46\n",
       "dtype: int64"
      ]
     },
     "execution_count": 857,
     "metadata": {},
     "output_type": "execute_result"
    }
   ],
   "source": [
    "df_click[df_click[\"Email\"] == \"Not-Given\"][[\"Email\"]].count()"
   ]
  },
  {
   "cell_type": "markdown",
   "metadata": {},
   "source": [
    "## Primary Email and Email are same"
   ]
  },
  {
   "cell_type": "code",
   "execution_count": 858,
   "metadata": {},
   "outputs": [
    {
     "data": {
      "text/plain": [
       "(46,)"
      ]
     },
     "execution_count": 858,
     "metadata": {},
     "output_type": "execute_result"
    }
   ],
   "source": [
    "df_click[df_click[\"primary_email\"].isna()][\"primary_email\"].shape"
   ]
  },
  {
   "cell_type": "code",
   "execution_count": 859,
   "metadata": {},
   "outputs": [
    {
     "data": {
      "text/plain": [
       "array(['Given', 'Not-Given'], dtype=object)"
      ]
     },
     "execution_count": 859,
     "metadata": {},
     "output_type": "execute_result"
    }
   ],
   "source": [
    "df_click[\"Email\"].unique()"
   ]
  },
  {
   "cell_type": "markdown",
   "metadata": {},
   "source": [
    "# Primary Email"
   ]
  },
  {
   "cell_type": "markdown",
   "metadata": {},
   "source": [
    "## DROP since same as Email"
   ]
  },
  {
   "cell_type": "code",
   "execution_count": 860,
   "metadata": {},
   "outputs": [
    {
     "data": {
      "text/plain": [
       "Index(['LuminateID', 'home_zip', 'Email', 'Campaign_Name', 'Message_Name',\n",
       "       'Clickthrough__Date', 'URL', 'home_country', 'home_phone',\n",
       "       'preferred_email_format'],\n",
       "      dtype='object')"
      ]
     },
     "execution_count": 860,
     "metadata": {},
     "output_type": "execute_result"
    }
   ],
   "source": [
    "try:\n",
    "    df_click = df_click.drop(\"primary_email\", axis=1)\n",
    "except ValueError:\n",
    "    print(\"Looks like it has already been dropped...\")\n",
    "    \n",
    "df_click.columns"
   ]
  },
  {
   "cell_type": "markdown",
   "metadata": {},
   "source": [
    "# Home Country"
   ]
  },
  {
   "cell_type": "code",
   "execution_count": 861,
   "metadata": {},
   "outputs": [
    {
     "data": {
      "text/plain": [
       "array([nan, 'Canada', 'United Arab Emirates', 'United States',\n",
       "       'Australia', 'USA'], dtype=object)"
      ]
     },
     "execution_count": 861,
     "metadata": {},
     "output_type": "execute_result"
    }
   ],
   "source": [
    "df_click[\"home_country\"].unique()"
   ]
  },
  {
   "cell_type": "code",
   "execution_count": 862,
   "metadata": {
    "scrolled": true
   },
   "outputs": [
    {
     "data": {
      "text/plain": [
       "(11842, 10)"
      ]
     },
     "execution_count": 862,
     "metadata": {},
     "output_type": "execute_result"
    }
   ],
   "source": [
    "df_click = df_click.dropna(subset=[\"home_country\"])\n",
    "df_click.shape"
   ]
  },
  {
   "cell_type": "code",
   "execution_count": 863,
   "metadata": {},
   "outputs": [
    {
     "data": {
      "text/plain": [
       "array(['Canada', 'United Arab Emirates', 'United States', 'Australia',\n",
       "       'USA'], dtype=object)"
      ]
     },
     "execution_count": 863,
     "metadata": {},
     "output_type": "execute_result"
    }
   ],
   "source": [
    "df_click[\"home_country\"].unique()"
   ]
  },
  {
   "cell_type": "code",
   "execution_count": 864,
   "metadata": {},
   "outputs": [
    {
     "data": {
      "text/plain": [
       "Index(['LuminateID', 'home_zip', 'Email', 'Campaign_Name', 'Message_Name',\n",
       "       'Clickthrough__Date', 'URL', 'home_country', 'home_phone',\n",
       "       'preferred_email_format'],\n",
       "      dtype='object')"
      ]
     },
     "execution_count": 864,
     "metadata": {},
     "output_type": "execute_result"
    }
   ],
   "source": [
    "df_click.columns"
   ]
  },
  {
   "cell_type": "code",
   "execution_count": null,
   "metadata": {},
   "outputs": [],
   "source": []
  },
  {
   "cell_type": "markdown",
   "metadata": {},
   "source": [
    "# Preferred email format"
   ]
  },
  {
   "cell_type": "markdown",
   "metadata": {},
   "source": [
    "## DROP"
   ]
  },
  {
   "cell_type": "code",
   "execution_count": 866,
   "metadata": {},
   "outputs": [
    {
     "data": {
      "text/plain": [
       "0.0    3412\n",
       "1.0     152\n",
       "2.0      11\n",
       "Name: preferred_email_format, dtype: int64"
      ]
     },
     "execution_count": 866,
     "metadata": {},
     "output_type": "execute_result"
    }
   ],
   "source": [
    "df_click[\"preferred_email_format\"].value_counts()"
   ]
  },
  {
   "cell_type": "code",
   "execution_count": 867,
   "metadata": {},
   "outputs": [
    {
     "data": {
      "text/plain": [
       "Index(['LuminateID', 'home_zip', 'Email', 'Campaign_Name', 'Message_Name',\n",
       "       'Clickthrough__Date', 'URL', 'home_country', 'home_phone'],\n",
       "      dtype='object')"
      ]
     },
     "execution_count": 867,
     "metadata": {},
     "output_type": "execute_result"
    }
   ],
   "source": [
    "try:\n",
    "    df_click = df_click.drop(\"preferred_email_format\", axis=1)\n",
    "except ValueError:\n",
    "    print(\"Looks like it has already been dropped...\")\n",
    "    \n",
    "df_click.columns"
   ]
  },
  {
   "cell_type": "markdown",
   "metadata": {},
   "source": [
    "# FINAL TOUCHES"
   ]
  },
  {
   "cell_type": "markdown",
   "metadata": {},
   "source": [
    "# % of missing ZIP codes"
   ]
  },
  {
   "cell_type": "code",
   "execution_count": 886,
   "metadata": {},
   "outputs": [
    {
     "data": {
      "text/plain": [
       "LuminateID              0\n",
       "home_zip              666\n",
       "Email                   0\n",
       "Campaign_Name           0\n",
       "Message_Name            0\n",
       "Clickthrough__Date      0\n",
       "URL                     0\n",
       "home_country            0\n",
       "home_phone              0\n",
       "dtype: int64"
      ]
     },
     "execution_count": 886,
     "metadata": {},
     "output_type": "execute_result"
    }
   ],
   "source": [
    "df_click.isna().sum()"
   ]
  },
  {
   "cell_type": "code",
   "execution_count": 885,
   "metadata": {},
   "outputs": [
    {
     "data": {
      "text/plain": [
       "5.624049991555481"
      ]
     },
     "execution_count": 885,
     "metadata": {},
     "output_type": "execute_result"
    }
   ],
   "source": [
    "666 / 118.42 "
   ]
  },
  {
   "cell_type": "markdown",
   "metadata": {},
   "source": [
    "# Grouping up based on LuminateID and CampaingDate and taking the clickthrough with the last name\n",
    "\n",
    "### And create new column with counts of clickThroughs in each column "
   ]
  },
  {
   "cell_type": "code",
   "execution_count": 889,
   "metadata": {},
   "outputs": [],
   "source": [
    "df_click_new = df_click.sort_values(by=['LuminateID',\"Campaign_Name\", 'Clickthrough__Date']).drop_duplicates(subset=['LuminateID',\"Campaign_Name\"])"
   ]
  },
  {
   "cell_type": "code",
   "execution_count": 898,
   "metadata": {},
   "outputs": [],
   "source": [
    "df_click_new = df_click.sort_values(by=['LuminateID',\"Campaign_Name\", 'Clickthrough__Date']).drop_duplicates(subset=['LuminateID',\"Campaign_Name\"])\n",
    "\n",
    "# Following line does count of all clicks for each user  and each of his campaigns \n",
    "# and saves it in new column = 'temp'\n",
    "x = df_click.assign(temp=df_click\n",
    "                    .groupby(['LuminateID',\"Campaign_Name\"])[\"Clickthrough__Date\"] \n",
    "                    .transform(\"count\"))\n",
    "\n",
    "# x.sort_values(by=['LuminateID',\"Campaign_Name\", 'Clickthrough__Date']).drop_duplicates(subset=['LuminateID',\"Campaign_Name\"])\n",
    "df_click_new = x.sort_values(by=['LuminateID',\"Campaign_Name\", 'Clickthrough__Date']).drop_duplicates(subset=['LuminateID',\"Campaign_Name\"])"
   ]
  },
  {
   "cell_type": "markdown",
   "metadata": {},
   "source": [
    "## One user records, this user used to have 80 clickthroughs before groupby\n",
    "\n",
    "## Now he has 3 (one for each different campaigns)"
   ]
  },
  {
   "cell_type": "code",
   "execution_count": 891,
   "metadata": {},
   "outputs": [
    {
     "data": {
      "text/html": [
       "<div>\n",
       "<style scoped>\n",
       "    .dataframe tbody tr th:only-of-type {\n",
       "        vertical-align: middle;\n",
       "    }\n",
       "\n",
       "    .dataframe tbody tr th {\n",
       "        vertical-align: top;\n",
       "    }\n",
       "\n",
       "    .dataframe thead th {\n",
       "        text-align: right;\n",
       "    }\n",
       "</style>\n",
       "<table border=\"1\" class=\"dataframe\">\n",
       "  <thead>\n",
       "    <tr style=\"text-align: right;\">\n",
       "      <th></th>\n",
       "      <th>LuminateID</th>\n",
       "      <th>home_zip</th>\n",
       "      <th>Email</th>\n",
       "      <th>Campaign_Name</th>\n",
       "      <th>Message_Name</th>\n",
       "      <th>Clickthrough__Date</th>\n",
       "      <th>URL</th>\n",
       "      <th>home_country</th>\n",
       "      <th>home_phone</th>\n",
       "      <th>temp</th>\n",
       "    </tr>\n",
       "  </thead>\n",
       "  <tbody>\n",
       "    <tr>\n",
       "      <th>11536</th>\n",
       "      <td>1220994</td>\n",
       "      <td>M1G 2W3</td>\n",
       "      <td>Given</td>\n",
       "      <td>2018 T18H5</td>\n",
       "      <td>T18H5 Pre Non Donors</td>\n",
       "      <td>08/30/2018 10:29</td>\n",
       "      <td>https://instagram.com/trillium_health/</td>\n",
       "      <td>Canada</td>\n",
       "      <td>Given</td>\n",
       "      <td>11</td>\n",
       "    </tr>\n",
       "    <tr>\n",
       "      <th>11566</th>\n",
       "      <td>1220994</td>\n",
       "      <td>M1G 2W3</td>\n",
       "      <td>Given</td>\n",
       "      <td>General Holiday eAppeals 2017</td>\n",
       "      <td>General Audience Email 2 (Subject Test Just Ha...</td>\n",
       "      <td>12/19/2017 18:36</td>\n",
       "      <td>http://www.convio.com/</td>\n",
       "      <td>Canada</td>\n",
       "      <td>Given</td>\n",
       "      <td>25</td>\n",
       "    </tr>\n",
       "    <tr>\n",
       "      <th>11504</th>\n",
       "      <td>1220994</td>\n",
       "      <td>M1G 2W3</td>\n",
       "      <td>Given</td>\n",
       "      <td>InTouch</td>\n",
       "      <td>March 2018 (Subject Line eNewsletter)</td>\n",
       "      <td>03/29/2018 10:42</td>\n",
       "      <td>https://trilliumgiving.ca/get-involved/events/</td>\n",
       "      <td>Canada</td>\n",
       "      <td>Given</td>\n",
       "      <td>48</td>\n",
       "    </tr>\n",
       "  </tbody>\n",
       "</table>\n",
       "</div>"
      ],
      "text/plain": [
       "       LuminateID home_zip  Email                  Campaign_Name  \\\n",
       "11536     1220994  M1G 2W3  Given                     2018 T18H5   \n",
       "11566     1220994  M1G 2W3  Given  General Holiday eAppeals 2017   \n",
       "11504     1220994  M1G 2W3  Given                        InTouch   \n",
       "\n",
       "                                            Message_Name Clickthrough__Date  \\\n",
       "11536                               T18H5 Pre Non Donors   08/30/2018 10:29   \n",
       "11566  General Audience Email 2 (Subject Test Just Ha...   12/19/2017 18:36   \n",
       "11504              March 2018 (Subject Line eNewsletter)   03/29/2018 10:42   \n",
       "\n",
       "                                                  URL home_country home_phone  \\\n",
       "11536          https://instagram.com/trillium_health/       Canada      Given   \n",
       "11566                          http://www.convio.com/       Canada      Given   \n",
       "11504  https://trilliumgiving.ca/get-involved/events/       Canada      Given   \n",
       "\n",
       "       temp  \n",
       "11536    11  \n",
       "11566    25  \n",
       "11504    48  "
      ]
     },
     "execution_count": 891,
     "metadata": {},
     "output_type": "execute_result"
    }
   ],
   "source": [
    "df_click_new[df_click_new[\"LuminateID\"] == 1220994]"
   ]
  },
  {
   "cell_type": "code",
   "execution_count": 897,
   "metadata": {},
   "outputs": [
    {
     "data": {
      "text/plain": [
       "(84, 9)"
      ]
     },
     "execution_count": 897,
     "metadata": {},
     "output_type": "execute_result"
    }
   ],
   "source": [
    "df_click[df_click[\"LuminateID\"] == 1220994].shape"
   ]
  },
  {
   "cell_type": "markdown",
   "metadata": {},
   "source": [
    "# Looking at how did the dataframe size change (in bytes) from the initial csv file (percentage)"
   ]
  },
  {
   "cell_type": "code",
   "execution_count": 878,
   "metadata": {
    "scrolled": true
   },
   "outputs": [
    {
     "data": {
      "text/plain": [
       "'45.340333908253 %'"
      ]
     },
     "execution_count": 878,
     "metadata": {},
     "output_type": "execute_result"
    }
   ],
   "source": [
    "final_mem = df_click_new.memory_usage(index=True, deep=True).sum()\n",
    "p = (start_mem /100) \n",
    "str((start_mem - final_mem) /p) + \" %\""
   ]
  },
  {
   "cell_type": "code",
   "execution_count": null,
   "metadata": {},
   "outputs": [],
   "source": []
  },
  {
   "cell_type": "markdown",
   "metadata": {},
   "source": [
    "# Rename columns to "
   ]
  },
  {
   "cell_type": "code",
   "execution_count": 883,
   "metadata": {},
   "outputs": [
    {
     "data": {
      "text/html": [
       "<div>\n",
       "<style scoped>\n",
       "    .dataframe tbody tr th:only-of-type {\n",
       "        vertical-align: middle;\n",
       "    }\n",
       "\n",
       "    .dataframe tbody tr th {\n",
       "        vertical-align: top;\n",
       "    }\n",
       "\n",
       "    .dataframe thead th {\n",
       "        text-align: right;\n",
       "    }\n",
       "</style>\n",
       "<table border=\"1\" class=\"dataframe\">\n",
       "  <thead>\n",
       "    <tr style=\"text-align: right;\">\n",
       "      <th></th>\n",
       "      <th>luminateId</th>\n",
       "      <th>zipCode</th>\n",
       "      <th>email</th>\n",
       "      <th>campaignName</th>\n",
       "      <th>messageName</th>\n",
       "      <th>clickthroughDate</th>\n",
       "      <th>url</th>\n",
       "      <th>homeCountry</th>\n",
       "      <th>homePhone</th>\n",
       "      <th>numClicksPerCampaign</th>\n",
       "    </tr>\n",
       "  </thead>\n",
       "  <tbody>\n",
       "    <tr>\n",
       "      <th>10462</th>\n",
       "      <td>1001541</td>\n",
       "      <td>L5B 1B8</td>\n",
       "      <td>Given</td>\n",
       "      <td>2018 Spring Match</td>\n",
       "      <td>General 2 (One Button)</td>\n",
       "      <td>06/27/2018 8:37</td>\n",
       "      <td>http://thcf.convio.net/site/Donation2?df_id=27...</td>\n",
       "      <td>Canada</td>\n",
       "      <td>Given</td>\n",
       "      <td>1</td>\n",
       "    </tr>\n",
       "    <tr>\n",
       "      <th>10463</th>\n",
       "      <td>1001541</td>\n",
       "      <td>L5B 1B8</td>\n",
       "      <td>Given</td>\n",
       "      <td>Golf Classic 2018</td>\n",
       "      <td>Golf Classic - Registration Open</td>\n",
       "      <td>03/06/2018 13:53</td>\n",
       "      <td>http://thcf.convio.net/site/Ticketing?view=Tic...</td>\n",
       "      <td>Canada</td>\n",
       "      <td>Given</td>\n",
       "      <td>1</td>\n",
       "    </tr>\n",
       "    <tr>\n",
       "      <th>8009</th>\n",
       "      <td>1001702</td>\n",
       "      <td>L5E 3E1</td>\n",
       "      <td>Given</td>\n",
       "      <td>Golf Classic 2018</td>\n",
       "      <td>Joint WWD &amp; GC Registration</td>\n",
       "      <td>04/26/2018 22:09</td>\n",
       "      <td>http://www.trilliumwwd.ca</td>\n",
       "      <td>Canada</td>\n",
       "      <td>Given</td>\n",
       "      <td>2</td>\n",
       "    </tr>\n",
       "    <tr>\n",
       "      <th>1944</th>\n",
       "      <td>1001708</td>\n",
       "      <td>L5L 5S4</td>\n",
       "      <td>Given</td>\n",
       "      <td>General Holiday eAppeals 2017</td>\n",
       "      <td>Happy Holidays e-card</td>\n",
       "      <td>12/21/2017 9:46</td>\n",
       "      <td>https://www.facebook.com/TrilliumHealthPartner...</td>\n",
       "      <td>Canada</td>\n",
       "      <td>Given</td>\n",
       "      <td>1</td>\n",
       "    </tr>\n",
       "    <tr>\n",
       "      <th>1943</th>\n",
       "      <td>1001708</td>\n",
       "      <td>L5L 5S4</td>\n",
       "      <td>Given</td>\n",
       "      <td>H6 DM campaign E-appeal</td>\n",
       "      <td>Post-DM (Give Now Button)</td>\n",
       "      <td>11/07/2017 10:02</td>\n",
       "      <td>http://thcf.convio.net/site/Donation2?df_id=25...</td>\n",
       "      <td>Canada</td>\n",
       "      <td>Given</td>\n",
       "      <td>1</td>\n",
       "    </tr>\n",
       "    <tr>\n",
       "      <th>1942</th>\n",
       "      <td>1001708</td>\n",
       "      <td>L5L 5S4</td>\n",
       "      <td>Given</td>\n",
       "      <td>H7 DM campaign E-appeal</td>\n",
       "      <td>H7 Pre</td>\n",
       "      <td>11/30/2017 10:10</td>\n",
       "      <td>https://trilliumgiving.ca/johns-story/</td>\n",
       "      <td>Canada</td>\n",
       "      <td>Given</td>\n",
       "      <td>1</td>\n",
       "    </tr>\n",
       "    <tr>\n",
       "      <th>1945</th>\n",
       "      <td>1001708</td>\n",
       "      <td>L5L 5S4</td>\n",
       "      <td>Given</td>\n",
       "      <td>InTouch</td>\n",
       "      <td>Jul-18</td>\n",
       "      <td>07/26/2018 10:03</td>\n",
       "      <td>https://trilliumgiving.ca/e-newsletters/indira...</td>\n",
       "      <td>Canada</td>\n",
       "      <td>Given</td>\n",
       "      <td>1</td>\n",
       "    </tr>\n",
       "    <tr>\n",
       "      <th>500</th>\n",
       "      <td>1001711</td>\n",
       "      <td>L5L 5S4</td>\n",
       "      <td>Given</td>\n",
       "      <td>InTouch</td>\n",
       "      <td>Jul-18</td>\n",
       "      <td>07/26/2018 13:50</td>\n",
       "      <td>https://trilliumgiving.ca/e-newsletters/what-i...</td>\n",
       "      <td>Canada</td>\n",
       "      <td>Given</td>\n",
       "      <td>1</td>\n",
       "    </tr>\n",
       "    <tr>\n",
       "      <th>9243</th>\n",
       "      <td>1001719</td>\n",
       "      <td>L5G 4N9</td>\n",
       "      <td>Given</td>\n",
       "      <td>InTouch</td>\n",
       "      <td>March 2018 (Subject Line eNewsletter)</td>\n",
       "      <td>03/29/2018 8:56</td>\n",
       "      <td>https://trilliumgiving.ca/e-newsletters/what-i...</td>\n",
       "      <td>Canada</td>\n",
       "      <td>Given</td>\n",
       "      <td>2</td>\n",
       "    </tr>\n",
       "    <tr>\n",
       "      <th>9245</th>\n",
       "      <td>1001719</td>\n",
       "      <td>L5G 4N9</td>\n",
       "      <td>Given</td>\n",
       "      <td>Laugh Out Loud 2018</td>\n",
       "      <td>LOL 2018 Headliner Announcement</td>\n",
       "      <td>10/20/2017 11:48</td>\n",
       "      <td>http://thcf.convio.net/site/Ticketing?view=Tic...</td>\n",
       "      <td>Canada</td>\n",
       "      <td>Given</td>\n",
       "      <td>1</td>\n",
       "    </tr>\n",
       "  </tbody>\n",
       "</table>\n",
       "</div>"
      ],
      "text/plain": [
       "       luminateId  zipCode  email                   campaignName  \\\n",
       "10462     1001541  L5B 1B8  Given              2018 Spring Match   \n",
       "10463     1001541  L5B 1B8  Given              Golf Classic 2018   \n",
       "8009      1001702  L5E 3E1  Given              Golf Classic 2018   \n",
       "1944      1001708  L5L 5S4  Given  General Holiday eAppeals 2017   \n",
       "1943      1001708  L5L 5S4  Given        H6 DM campaign E-appeal   \n",
       "1942      1001708  L5L 5S4  Given        H7 DM campaign E-appeal   \n",
       "1945      1001708  L5L 5S4  Given                        InTouch   \n",
       "500       1001711  L5L 5S4  Given                        InTouch   \n",
       "9243      1001719  L5G 4N9  Given                        InTouch   \n",
       "9245      1001719  L5G 4N9  Given            Laugh Out Loud 2018   \n",
       "\n",
       "                                 messageName  clickthroughDate  \\\n",
       "10462                 General 2 (One Button)   06/27/2018 8:37   \n",
       "10463       Golf Classic - Registration Open  03/06/2018 13:53   \n",
       "8009             Joint WWD & GC Registration  04/26/2018 22:09   \n",
       "1944                   Happy Holidays e-card   12/21/2017 9:46   \n",
       "1943               Post-DM (Give Now Button)  11/07/2017 10:02   \n",
       "1942                                  H7 Pre  11/30/2017 10:10   \n",
       "1945                                  Jul-18  07/26/2018 10:03   \n",
       "500                                   Jul-18  07/26/2018 13:50   \n",
       "9243   March 2018 (Subject Line eNewsletter)   03/29/2018 8:56   \n",
       "9245         LOL 2018 Headliner Announcement  10/20/2017 11:48   \n",
       "\n",
       "                                                     url homeCountry  \\\n",
       "10462  http://thcf.convio.net/site/Donation2?df_id=27...      Canada   \n",
       "10463  http://thcf.convio.net/site/Ticketing?view=Tic...      Canada   \n",
       "8009                           http://www.trilliumwwd.ca      Canada   \n",
       "1944   https://www.facebook.com/TrilliumHealthPartner...      Canada   \n",
       "1943   http://thcf.convio.net/site/Donation2?df_id=25...      Canada   \n",
       "1942              https://trilliumgiving.ca/johns-story/      Canada   \n",
       "1945   https://trilliumgiving.ca/e-newsletters/indira...      Canada   \n",
       "500    https://trilliumgiving.ca/e-newsletters/what-i...      Canada   \n",
       "9243   https://trilliumgiving.ca/e-newsletters/what-i...      Canada   \n",
       "9245   http://thcf.convio.net/site/Ticketing?view=Tic...      Canada   \n",
       "\n",
       "      homePhone  numClicksPerCampaign  \n",
       "10462     Given                     1  \n",
       "10463     Given                     1  \n",
       "8009      Given                     2  \n",
       "1944      Given                     1  \n",
       "1943      Given                     1  \n",
       "1942      Given                     1  \n",
       "1945      Given                     1  \n",
       "500       Given                     1  \n",
       "9243      Given                     2  \n",
       "9245      Given                     1  "
      ]
     },
     "execution_count": 883,
     "metadata": {},
     "output_type": "execute_result"
    }
   ],
   "source": [
    "#(columns={'oldName1': 'newName1', 'oldName2': 'newName2'})\n",
    "df_click_new = df_click_new.rename(columns={'LuminateID': 'luminateId', 'home_zip': 'zipCode',\n",
    "                             \"Email\":\"email\", \"Campaign_Name\":\"campaignName\",\n",
    "                             \"Message_Name\":\"messageName\",\"Clickthrough__Date\":\"date\",\n",
    "                             \"URL\":\"url\",\"home_country\":\"homeCountry\",\"home_phone\":\"homePhone\",\n",
    "                             \"temp\":\"numClicksPerCampaign\"})\n",
    "df_click_new.head(10)"
   ]
  },
  {
   "cell_type": "markdown",
   "metadata": {},
   "source": [
    "# Save to new csv file"
   ]
  },
  {
   "cell_type": "code",
   "execution_count": 893,
   "metadata": {},
   "outputs": [
    {
     "data": {
      "text/plain": [
       "(7332, 9)"
      ]
     },
     "execution_count": 893,
     "metadata": {},
     "output_type": "execute_result"
    }
   ],
   "source": [
    "df_click_new.shape"
   ]
  },
  {
   "cell_type": "code",
   "execution_count": 881,
   "metadata": {
    "collapsed": true
   },
   "outputs": [],
   "source": [
    "df_click_new.to_csv(\"Datathon_LO_Clickthrough_CLEANED2.csv\")"
   ]
  }
 ],
 "metadata": {
  "kernelspec": {
   "display_name": "Python 3",
   "language": "python",
   "name": "python3"
  },
  "language_info": {
   "codemirror_mode": {
    "name": "ipython",
    "version": 3
   },
   "file_extension": ".py",
   "mimetype": "text/x-python",
   "name": "python",
   "nbconvert_exporter": "python",
   "pygments_lexer": "ipython3",
   "version": "3.6.5"
  }
 },
 "nbformat": 4,
 "nbformat_minor": 2
}
